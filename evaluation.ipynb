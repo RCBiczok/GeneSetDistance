{
 "cells": [
  {
   "cell_type": "code",
   "execution_count": 40,
   "metadata": {},
   "outputs": [],
   "source": [
    "from gensim.models import Word2Vec\n",
    "from gensim.models import KeyedVectors\n",
    "from gensim.test.utils import datapath\n",
    "\n",
    "from statistics import median\n",
    "from typing import List\n",
    "from pandas import read_table, DataFrame\n",
    "import numpy as np\n",
    "from scipy.sparse import csr_matrix\n",
    "from scipy.sparse.csgraph import shortest_path\n",
    "\n",
    "from gsd.distance.ppi import DirectPPIDistanceMetric, load_ppi_mitab\n",
    "from gsd.distance import DistanceMetric\n",
    "from gsd.gene_sets import GeneSet\n",
    "from statistics import mean \n",
    "\n",
    "\n",
    "from tests.gsd.distance import gene_sets\n",
    "\n",
    "ppi_data = load_ppi_mitab(\"__data/ppi/BioGrid/BIOGRID-ALL-3.5.166.mitab.txt\")"
   ]
  },
  {
   "cell_type": "code",
   "execution_count": 87,
   "metadata": {},
   "outputs": [
    {
     "name": "stdout",
     "output_type": "stream",
     "text": [
      "0\n"
     ]
    }
   ],
   "source": [
    "#with open('evaluation_data/R-HSA-1474290/gene_sets.json') as f:\n",
    "#    data = json.load(f, object_hook=lambda elem: print(elem))\n",
    "#wv_from_bin = KeyedVectors.load_word2vec_format(\"__data/nlp/PubMed-Pyysalo-2013/wikipedia-pubmed-and-PMC-w2v.bin\", binary=True)  # C binary format\n",
    "#wv_from_bin[\"scna\"]\n",
    "\n",
    "def calc_path_distance(gene_set_a, gene_set_b):\n",
    "    indices_a = [nodes_mapping[gene_id] for gene_id in gene_set_a.entrez_gene_ids]\n",
    "    indices_b = [nodes_mapping[gene_id] for gene_id in gene_set_b.entrez_gene_ids]\n",
    "\n",
    "    dist_matrix = shortest_path(csgraph=graph, directed=False, indices=indices_a)\n",
    "    if gene_set_a == gene_set_b:\n",
    "        return 0\n",
    "    return median([row[idx_b] for idx_b in indices_b for row in dist_matrix])\n",
    "\n",
    "print(calc_path_distance(gene_sets[0], gene_sets[0]))"
   ]
  }
 ],
 "metadata": {
  "kernelspec": {
   "display_name": "Python 3",
   "language": "python",
   "name": "python3"
  },
  "language_info": {
   "codemirror_mode": {
    "name": "ipython",
    "version": 3
   },
   "file_extension": ".py",
   "mimetype": "text/x-python",
   "name": "python",
   "nbconvert_exporter": "python",
   "pygments_lexer": "ipython3",
   "version": "3.6.7"
  }
 },
 "nbformat": 4,
 "nbformat_minor": 2
}
