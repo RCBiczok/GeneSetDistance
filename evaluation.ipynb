{
 "cells": [
  {
   "cell_type": "code",
   "execution_count": 7,
   "metadata": {},
   "outputs": [],
   "source": [
    "from gensim.models import Word2Vec\n",
    "from gensim.models import KeyedVectors\n",
    "from gensim.test.utils import datapath\n",
    "\n",
    "import gsd.gene_sets\n",
    "from tests.gsd.distance import gene_sets"
   ]
  },
  {
   "cell_type": "code",
   "execution_count": 2,
   "metadata": {},
   "outputs": [],
   "source": [
    "#gene_sets = gsd.gene_sets.load('evaluation_data/R-HSA-1474290/gene_sets.json') \n",
    "wv_from_bin = KeyedVectors.load_word2vec_format(\"__data/nlp/PubMed-Wilbur-2018/pubmed_s100w10_min.bin\", binary=True)  # C binary format"
   ]
  },
  {
   "cell_type": "code",
   "execution_count": 17,
   "metadata": {},
   "outputs": [
    {
     "data": {
      "text/plain": [
       "array([ 0.28929386,  0.02269982,  0.21945786, -0.01076424, -0.10263829,\n",
       "       -0.84832376, -0.45166817, -0.00721582,  0.09164063, -0.24140546,\n",
       "       -0.40525424,  0.22123097, -0.1490089 ,  0.5801699 ,  0.22463131,\n",
       "       -0.41943413, -0.22877751, -0.26132315, -0.13559619,  0.42018583,\n",
       "        0.1595678 , -0.5566486 , -0.61964774,  0.01770071,  0.47649503,\n",
       "       -0.29512355,  0.14649186,  0.07700012, -0.01106064,  0.23674905,\n",
       "       -0.02301601,  0.43429554,  0.05492493,  0.36766273, -0.04947367,\n",
       "       -0.10201354, -0.05503812,  0.16128981,  0.08750117,  0.33305284,\n",
       "       -0.5431233 ,  0.3331437 ,  0.30248448, -0.10960212,  0.12124944,\n",
       "       -0.03870677,  0.01297185, -0.21360199,  0.27906513, -0.19237441,\n",
       "        0.28845954, -0.01448421, -0.02227713,  0.4028882 ,  0.54796433,\n",
       "        0.00437072, -0.6322757 , -0.00586756, -0.24633211, -0.31655917,\n",
       "        0.758273  , -0.09687213,  0.4290889 , -0.07838372, -0.32200408,\n",
       "        0.10286605, -0.0715005 ,  0.11574314, -0.3928724 ,  0.16513094,\n",
       "       -0.1493909 , -0.02395001,  0.41218287, -0.4819886 ,  0.27540722,\n",
       "        0.21828307, -0.10225876,  0.2112562 , -0.06527846,  0.10542854,\n",
       "        0.01127243,  0.13150553,  0.13529542,  0.52525586, -0.32728362,\n",
       "       -0.26206005, -0.546016  ,  0.14932036,  0.04350735,  0.11857094,\n",
       "       -0.46547893, -0.36041754, -0.32758597, -0.17402291, -0.04603353,\n",
       "       -0.22412673, -0.09985831, -0.5045328 , -0.08702748,  0.15654255],\n",
       "      dtype=float32)"
      ]
     },
     "execution_count": 17,
     "metadata": {},
     "output_type": "execute_result"
    }
   ],
   "source": [
    "a = {gene_sym.lower() for gene_sym in gene_sets[0].gene_symbols}\n",
    "b = {gene_sym.lower() for gene_sym in gene_sets[1].gene_symbols}\n",
    "(wv_from_bin['snca'] + wv_from_bin['sncb'])/2\n",
    "#wv_from_bin.wmdistance(a, b)"
   ]
  }
 ],
 "metadata": {
  "kernelspec": {
   "display_name": "Python 3",
   "language": "python",
   "name": "python3"
  },
  "language_info": {
   "codemirror_mode": {
    "name": "ipython",
    "version": 3
   },
   "file_extension": ".py",
   "mimetype": "text/x-python",
   "name": "python",
   "nbconvert_exporter": "python",
   "pygments_lexer": "ipython3",
   "version": "3.6.7"
  }
 },
 "nbformat": 4,
 "nbformat_minor": 2
}
