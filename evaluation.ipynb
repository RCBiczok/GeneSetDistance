{
 "cells": [
  {
   "cell_type": "code",
   "execution_count": 16,
   "metadata": {},
   "outputs": [
    {
     "name": "stderr",
     "output_type": "stream",
     "text": [
      "/opt/local/Library/Frameworks/Python.framework/Versions/3.6/lib/python3.6/site-packages/rpy2/rinterface/__init__.py:146: RRuntimeWarning: Fehler: org.Hs.egPFAM is defunct. Please use select() if you need access to\n",
      "  PFAM or PROSITE accessions.\n",
      "\n",
      "  warnings.warn(x, RRuntimeWarning)\n",
      "/opt/local/Library/Frameworks/Python.framework/Versions/3.6/lib/python3.6/site-packages/rpy2/rinterface/__init__.py:146: RRuntimeWarning: Zusätzlich: \n",
      "  warnings.warn(x, RRuntimeWarning)\n",
      "/opt/local/Library/Frameworks/Python.framework/Versions/3.6/lib/python3.6/site-packages/rpy2/rinterface/__init__.py:146: RRuntimeWarning: Warnmeldungen:\n",
      "\n",
      "  warnings.warn(x, RRuntimeWarning)\n",
      "/opt/local/Library/Frameworks/Python.framework/Versions/3.6/lib/python3.6/site-packages/rpy2/rinterface/__init__.py:146: RRuntimeWarning: 1: \n",
      "  warnings.warn(x, RRuntimeWarning)\n",
      "/opt/local/Library/Frameworks/Python.framework/Versions/3.6/lib/python3.6/site-packages/rpy2/rinterface/__init__.py:146: RRuntimeWarning: In formals(fun) :\n",
      "  warnings.warn(x, RRuntimeWarning)\n",
      "/opt/local/Library/Frameworks/Python.framework/Versions/3.6/lib/python3.6/site-packages/rpy2/rinterface/__init__.py:146: RRuntimeWarning:  argument is not a function\n",
      "\n",
      "  warnings.warn(x, RRuntimeWarning)\n",
      "/opt/local/Library/Frameworks/Python.framework/Versions/3.6/lib/python3.6/site-packages/rpy2/rinterface/__init__.py:146: RRuntimeWarning: 2: \n",
      "  warnings.warn(x, RRuntimeWarning)\n",
      "/opt/local/Library/Frameworks/Python.framework/Versions/3.6/lib/python3.6/site-packages/rpy2/rinterface/__init__.py:146: RRuntimeWarning: 3: \n",
      "  warnings.warn(x, RRuntimeWarning)\n",
      "/opt/local/Library/Frameworks/Python.framework/Versions/3.6/lib/python3.6/site-packages/rpy2/rinterface/__init__.py:146: RRuntimeWarning: 4: \n",
      "  warnings.warn(x, RRuntimeWarning)\n",
      "/opt/local/Library/Frameworks/Python.framework/Versions/3.6/lib/python3.6/site-packages/rpy2/rinterface/__init__.py:146: RRuntimeWarning: 5: \n",
      "  warnings.warn(x, RRuntimeWarning)\n",
      "/opt/local/Library/Frameworks/Python.framework/Versions/3.6/lib/python3.6/site-packages/rpy2/robjects/packages.py:257: UserWarning: Fehler: org.Hs.egPFAM is defunct. Please use select() if you need access to\n",
      "  PFAM or PROSITE accessions.\n",
      "\n",
      "  warn(str(rre))\n",
      "/opt/local/Library/Frameworks/Python.framework/Versions/3.6/lib/python3.6/site-packages/rpy2/rinterface/__init__.py:146: RRuntimeWarning: Fehler: org.Hs.egPROSITE is defunct. Please use select() if you need access to\n",
      "  PFAM or PROSITE accessions.\n",
      "\n",
      "  warnings.warn(x, RRuntimeWarning)\n",
      "/opt/local/Library/Frameworks/Python.framework/Versions/3.6/lib/python3.6/site-packages/rpy2/robjects/packages.py:257: UserWarning: Fehler: org.Hs.egPROSITE is defunct. Please use select() if you need access to\n",
      "  PFAM or PROSITE accessions.\n",
      "\n",
      "  warn(str(rre))\n"
     ]
    }
   ],
   "source": [
    "from gensim.models import Word2Vec\n",
    "from gensim.models import KeyedVectors\n",
    "from gensim.test.utils import datapath\n",
    "\n",
    "import gsd.gene_sets\n",
    "import gsd.annotation\n"
   ]
  },
  {
   "cell_type": "code",
   "execution_count": 2,
   "metadata": {},
   "outputs": [],
   "source": [
    "#with open('evaluation_data/R-HSA-1474290/gene_sets.json') as f:\n",
    "#    data = json.load(f, object_hook=lambda elem: print(elem))\n",
    "#wv_from_bin = KeyedVectors.load_word2vec_format(\"__data/nlp/PubMed-Pyysalo-2013/wikipedia-pubmed-and-PMC-w2v.bin\", binary=True)  # C binary format\n",
    "#wv_from_bin[\"scna\"]\n",
    "\n",
    "#\"__data/ppi/BioGrid/BIOGRID-ALL-3.5.166.mitab.txt\"\n",
    "\n"
   ]
  },
  {
   "cell_type": "code",
   "execution_count": 20,
   "metadata": {},
   "outputs": [],
   "source": [
    "#gene_sets = gsd.gene_sets.load(\"evaluation_data/R-HSA-1474290/gene_sets.json\")\n",
    "gene_sets = [\n",
    "    gsd.gene_sets.GeneSet(name=\"SetA\",\n",
    "                          external_id=\"SetA\",\n",
    "                          external_source=\"\",\n",
    "                          summary=\"\",\n",
    "                          calculated=True,\n",
    "                          entrez_gene_ids={8908, 2998, 2997},\n",
    "                          gene_symbols={\"GYG2\", \"GYS2\", \"GYS1\"}),\n",
    "    gsd.gene_sets.GeneSet(name=\"SetB\",\n",
    "                          external_id=\"SetB\",\n",
    "                          external_source=\"\",\n",
    "                          summary=\"\",\n",
    "                          calculated=True,\n",
    "                          entrez_gene_ids={5507, 8908, 2998},\n",
    "                          gene_symbols={\"PPP1R3C\", \"GYG2\", \"GYS2\"}),\n",
    "    gsd.gene_sets.GeneSet(name=\"SetC\",\n",
    "                          external_id=\"SetC\",\n",
    "                          external_source=\"\",\n",
    "                          summary=\"\",\n",
    "                          calculated=True,\n",
    "                          entrez_gene_ids={2998, 2997, 2992},\n",
    "                          gene_symbols={\"GYS2\", \"GYS1\", \"GYG1\"})\n",
    "]\n",
    "go_anno = gsd.annotation.read_go_anno_df(entrezgene2go_file=\"annotation_data/entrezgene2go.tsv\",\n",
    "                                         go_file=\"annotation_data/go.tsv\")\n"
   ]
  },
  {
   "cell_type": "code",
   "execution_count": 15,
   "metadata": {},
   "outputs": [
    {
     "name": "stderr",
     "output_type": "stream",
     "text": [
      "/opt/local/Library/Frameworks/Python.framework/Versions/3.6/lib/python3.6/site-packages/rpy2/rinterface/__init__.py:146: RRuntimeWarning: preparing gene to GO mapping data...\n",
      "\n",
      "  warnings.warn(x, RRuntimeWarning)\n",
      "/opt/local/Library/Frameworks/Python.framework/Versions/3.6/lib/python3.6/site-packages/rpy2/rinterface/__init__.py:146: RRuntimeWarning: preparing IC data...\n",
      "\n",
      "  warnings.warn(x, RRuntimeWarning)\n"
     ]
    }
   ],
   "source": []
  },
  {
   "cell_type": "code",
   "execution_count": 31,
   "metadata": {},
   "outputs": [
    {
     "data": {
      "text/plain": [
       "0.07099999999999995"
      ]
     },
     "execution_count": 31,
     "metadata": {},
     "output_type": "execute_result"
    }
   ],
   "source": [
    "1-go_sem_sim.mgoSim(list(go_sets[0].molecular_function.ids), \n",
    "                  list(go_sets[1].molecular_function.ids),\n",
    "                  hs_GO_mf,\n",
    "                  measure=\"Wang\",\n",
    "                  combine=\"BMA\")[0]"
   ]
  },
  {
   "cell_type": "code",
   "execution_count": null,
   "metadata": {},
   "outputs": [],
   "source": []
  }
 ],
 "metadata": {
  "kernelspec": {
   "display_name": "Python 3",
   "language": "python",
   "name": "python3"
  },
  "language_info": {
   "codemirror_mode": {
    "name": "ipython",
    "version": 3
   },
   "file_extension": ".py",
   "mimetype": "text/x-python",
   "name": "python",
   "nbconvert_exporter": "python",
   "pygments_lexer": "ipython3",
   "version": "3.6.7"
  }
 },
 "nbformat": 4,
 "nbformat_minor": 2
}
